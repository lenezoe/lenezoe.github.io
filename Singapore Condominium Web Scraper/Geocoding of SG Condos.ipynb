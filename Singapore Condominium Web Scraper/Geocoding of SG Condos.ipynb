{
 "cells": [
  {
   "cell_type": "code",
   "execution_count": null,
   "id": "fbad55b2",
   "metadata": {},
   "outputs": [],
   "source": [
    "import requests\n",
    "import pandas as pd"
   ]
  },
  {
   "cell_type": "code",
   "execution_count": null,
   "id": "3851d123",
   "metadata": {},
   "outputs": [],
   "source": [
    "# Load the CSV file with scraped condo names\n",
    "df = pd.read_csv(r\"condoNames.csv\")"
   ]
  },
  {
   "cell_type": "code",
   "execution_count": null,
   "id": "b53f6a9b",
   "metadata": {},
   "outputs": [],
   "source": [
    "# Define the API endpoint and parameters\n",
    "url = 'https://developers.onemap.sg/commonapi/search'\n",
    "params = {\n",
    "    'returnGeom': 'Y',\n",
    "    'getAddrDetails': 'Y',\n",
    "    'pageNum': 1\n",
    "}"
   ]
  },
  {
   "cell_type": "code",
   "execution_count": null,
   "id": "21468bed",
   "metadata": {},
   "outputs": [],
   "source": [
    "# Initialize an empty list to store the results\n",
    "results = []"
   ]
  },
  {
   "cell_type": "code",
   "execution_count": null,
   "id": "a3378259",
   "metadata": {},
   "outputs": [],
   "source": [
    "# Iterate over each condo name in the 'df' dataframe\n",
    "for Name in df['Name']:\n",
    "    # Set the API parameters\n",
    "    params['searchVal'] = Name\n",
    "    \n",
    "    # Send a GET request to the OneMap API\n",
    "    response = requests.get(url, params=params)\n",
    "    \n",
    "    # Parse the JSON response\n",
    "    data = response.json()\n",
    "    \n",
    "    # Check if the response contains any results\n",
    "    if 'results' in data and len(data['results']) > 0:\n",
    "        # Extract the first result (assuming it's the most relevant)\n",
    "        first_result = data['results'][0]\n",
    "        \n",
    "        # Extract the postal code, latitude, and longitude from the result\n",
    "        postal_code = first_result['POSTAL']\n",
    "        latitude = first_result['LATITUDE']\n",
    "        longitude = first_result['LONGITUDE']\n",
    "        \n",
    "        # Check if postal code is \"NIL\"\n",
    "        if postal_code == \"NIL\":\n",
    "            # If postal code is \"NIL\", try to retrieve the second result\n",
    "            if len(data['results']) > 1:\n",
    "                second_result = data['results'][1]\n",
    "                postal_code = second_result['POSTAL']\n",
    "                latitude = second_result['LATITUDE']\n",
    "                longitude = second_result['LONGITUDE']\n",
    "        \n",
    "        # Append the results to the list\n",
    "        results.append({\n",
    "            'name': Name,\n",
    "            'postal': postal_code,\n",
    "            'lat': latitude,\n",
    "            'long': longitude\n",
    "        })\n",
    "    else:\n",
    "        # Append None values to the list when no results are found\n",
    "        results.append({\n",
    "            'name': Name,\n",
    "            'postal': None,\n",
    "            'lat': None,\n",
    "            'long': None\n",
    "        })"
   ]
  },
  {
   "cell_type": "code",
   "execution_count": null,
   "id": "92c0c15c",
   "metadata": {},
   "outputs": [],
   "source": [
    "# Create a dataframe from the results list using pd.concat\n",
    "results_df = pd.concat([pd.DataFrame([result]) for result in results], ignore_index=True)"
   ]
  },
  {
   "cell_type": "code",
   "execution_count": null,
   "id": "6a8befdf",
   "metadata": {},
   "outputs": [],
   "source": [
    "# Save the results to a CSV file\n",
    "results_df.to_csv('condo_results.csv', index=False)"
   ]
  }
 ],
 "metadata": {
  "jupytext": {
   "cell_metadata_filter": "-all",
   "main_language": "python",
   "notebook_metadata_filter": "-all"
  },
  "language_info": {
   "name": "python"
  }
 },
 "nbformat": 4,
 "nbformat_minor": 5
}
